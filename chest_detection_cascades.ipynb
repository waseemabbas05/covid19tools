{
 "cells": [
  {
   "cell_type": "code",
   "execution_count": null,
   "metadata": {},
   "outputs": [],
   "source": [
    "##############################################################################################################\n",
    "# This notebook can be used to detect chest region in any x-ray image and then crop that region and store in new\n",
    "# folder. It requires a trained cascade detector in form of an xml file (provided with this notebook), an images\n",
    "# folder which has three more folders named \"train\",\"val\" and \"test\" and all of these folders containing two more\n",
    "# folders, one for each class (\"PNEUMONIA\" and \"NORMAL\") in this case. Once finished, this notebook will create\n",
    "# another folder named \"haar\" with three sub-folders in the main folder. This new \"haar\" folder can be used as \n",
    "# input path for the penuomonia detection notebook.\n",
    "import os\n",
    "import numpy as np\n",
    "import pandas as pd \n",
    "import random\n",
    "import cv2\n",
    "import matplotlib.pyplot as plt\n",
    "from PIL import Image\n",
    "%matplotlib inline"
   ]
  },
  {
   "cell_type": "code",
   "execution_count": null,
   "metadata": {},
   "outputs": [],
   "source": [
    "detector = cv2.CascadeClassifier('chestDetector.xml')\n",
    "input_path = \"/home/wabbas/shared/datasets/covid19/chest_xray\n",
    "def detect_chest(img,detector):\n",
    "    #detector = cv2.CascadeClassifier('chestDetector.xml')\n",
    "    dbox = detector.detectMultiScale(img, 1.5, 1)\n",
    "    if len(dbox)>0:\n",
    "        if len(dbox)>1:\n",
    "            area = np.zeros([len(dbox)])\n",
    "            for i in range(len(dbox)):\n",
    "                box = dbox[i]\n",
    "                area[i] = box[2]*box[3]\n",
    "            ind = np.argmax(area)\n",
    "        else:\n",
    "            ind = 0\n",
    "        box = dbox[ind]\n",
    "\n",
    "        r1 = box[1]; r2 = box[1]+box[3]\n",
    "        c1 = box[0]; c2 = box[0]+box[2]\n",
    "        im1 = img[r1:r2,c1:c2]\n",
    "        im1 = cv2.resize(im1,(320,240))\n",
    "    else:\n",
    "        im1 = cv2.resize(img,(320,240))\n",
    "    return im1\n",
    "\n",
    "conds = ['NORMAL','PNEUMONIA']\n",
    "splits = ['train/','val','test/']\n",
    "for i in range(2):\n",
    "    cond = conds[i]\n",
    "    for j in range(3):\n",
    "        split = splits[j]\n",
    "        cpath = input_path+'/haar/'+split+cond\n",
    "        #os.makedirs(cpath)\n",
    "        write_path = os.path.join(input_path,'haar',split,cond)\n",
    "        w = 400; h = 300\n",
    "        i = 0\n",
    "        tot = len(os.listdir(os.path.join(input_path, split , cond)))\n",
    "        for img in (os.listdir(os.path.join(input_path, split , cond))):\n",
    "            img1 = plt.imread(os.path.join(input_path,split,cond,img))\n",
    "            img1 = cv2.resize(img1, (w,h))\n",
    "            img1 = detect_chest(img1, detector)\n",
    "            im = Image.fromarray(img1)\n",
    "            im.save(os.path.join(write_path,img))\n",
    "            if i%50==0:\n",
    "                print(img+', '+str(i)+'/'+str(tot))\n",
    "            i = i + 1\n",
    "print('done')"
   ]
  },
  {
   "cell_type": "code",
   "execution_count": 1,
   "metadata": {},
   "outputs": [
    {
     "name": "stdout",
     "output_type": "stream",
     "text": [
      "pne\n"
     ]
    }
   ],
   "source": [
    "\n",
    "print(cond[0])"
   ]
  }
 ],
 "metadata": {
  "kernelspec": {
   "display_name": "Python 3",
   "language": "python",
   "name": "python3"
  },
  "language_info": {
   "codemirror_mode": {
    "name": "ipython",
    "version": 3
   },
   "file_extension": ".py",
   "mimetype": "text/x-python",
   "name": "python",
   "nbconvert_exporter": "python",
   "pygments_lexer": "ipython3",
   "version": "3.6.9"
  }
 },
 "nbformat": 4,
 "nbformat_minor": 2
}
