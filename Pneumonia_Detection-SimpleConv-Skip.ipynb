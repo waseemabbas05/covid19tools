{
 "cells": [
  {
   "cell_type": "code",
   "execution_count": null,
   "metadata": {},
   "outputs": [],
   "source": [
    "# ########################################################################################################\n",
    "# This notebook is a proof of concept for pneumonia detection in chest x-ray images. It can work with all kinds \n",
    "# of x-ray images but for its best performance, the images must be cropped for chest regions only. This notebook\n",
    "# expects the images to be stored in a main folder which have three more folders, 'train', 'val' and 'test'. Each\n",
    "# of these three folders must have two sub-folders, one for each class (\"NORMAL\" and \"PNEUMONIA\" in this case).\n",
    "import os\n",
    "import numpy as np\n",
    "import pandas as pd \n",
    "import random\n",
    "import cv2\n",
    "import matplotlib.pyplot as plt\n",
    "from PIL import Image\n",
    "%matplotlib inline\n",
    "\n",
    "import keras.backend as K\n",
    "from keras.models import Model, Sequential\n",
    "from keras.layers import Input, Dense, Flatten, Dropout, BatchNormalization, Add, multiply \n",
    "from keras.layers import Conv2D, SeparableConv2D, MaxPool2D, LeakyReLU, Activation,AveragePooling2D\n",
    "from keras.optimizers import Adam\n",
    "from keras.preprocessing.image import ImageDataGenerator\n",
    "from keras.callbacks import ModelCheckpoint, ReduceLROnPlateau, EarlyStopping\n",
    "import tensorflow as tf\n",
    "from tensorflow.keras.regularizers import l2\n",
    "\n",
    "seed = 232\n",
    "np.random.seed(seed)\n"
   ]
  },
  {
   "cell_type": "code",
   "execution_count": null,
   "metadata": {},
   "outputs": [],
   "source": [
    "input_path = '/home/wabbas/shared/datasets/covid19/chest_xray/haar/'\n",
    "for _set in ['train', 'val', 'test']:\n",
    "    n_normal = len(os.listdir(input_path + _set + '/NORMAL'))\n",
    "    n_infect = len(os.listdir(input_path + _set + '/PNEUMONIA'))\n",
    "    print('Set: {}, normal images: {}, pneumonia images: {}'.format(_set, n_normal, n_infect))\n"
   ]
  },
  {
   "cell_type": "code",
   "execution_count": 70,
   "metadata": {},
   "outputs": [],
   "source": [
    "input_path = \"/home/wabbas/shared/datasets/covid19/chest_xray/haar/\"\n",
    "def process_data(img_dims, batch_size):\n",
    "    # Data generation objects\n",
    "    if len(img_dims)>1:\n",
    "        r = img_dims[0]; c = img_dims[1]\n",
    "    else:\n",
    "        r = img_dims, c = img_dims\n",
    "    train_datagen = ImageDataGenerator(rescale=1./255, zoom_range=0.3, vertical_flip=True)\n",
    "    test_val_datagen = ImageDataGenerator(rescale=1./255)\n",
    "    print(r)\n",
    "    # This is fed to the network in the specified batch sizes and image dimensions\n",
    "    train_gen = train_datagen.flow_from_directory(\n",
    "    directory=input_path+'train', \n",
    "    target_size=(r, c), \n",
    "    batch_size=batch_size, \n",
    "    class_mode='categorical', \n",
    "    shuffle=True)\n",
    "\n",
    "    test_gen = test_val_datagen.flow_from_directory(\n",
    "    directory=input_path+'test', \n",
    "    target_size=(r, c), \n",
    "    batch_size=batch_size, \n",
    "    class_mode='categorical', \n",
    "    shuffle=True)\n",
    "    \n",
    "    # I will be making predictions off of the test set in one batch size\n",
    "    # This is useful to be able to get the confusion matrix\n",
    "    test_data = []\n",
    "    test_labels = []\n",
    "    \n",
    "    for cond in ['/NORMAL/', '/PNEUMONIA/']:\n",
    "        for img in (os.listdir(input_path + 'test' + cond)):\n",
    "            img = plt.imread(input_path+'test'+cond+img)\n",
    "            img = cv2.resize(img, (c,r))\n",
    "            #print(img.shape)\n",
    "            #img = detect_chest(img, detector)\n",
    "            img = np.dstack([img, img, img])\n",
    "            img = img.astype('float32') / 255\n",
    "            lab = np.zeros([1,2])\n",
    "            if cond=='/NORMAL/':\n",
    "                lab[0,0] = 1\n",
    "            elif cond=='/PNEUMONIA/':\n",
    "                lab[0,1] = 1\n",
    "            test_data.append(img)\n",
    "            test_labels.append(lab)\n",
    "        \n",
    "    test_data = np.array(test_data)\n",
    "    test_labels = np.array(test_labels)\n",
    "    \n",
    "    return train_gen, test_gen, test_data, test_labels"
   ]
  },
  {
   "cell_type": "code",
   "execution_count": null,
   "metadata": {},
   "outputs": [],
   "source": [
    "files = os.listdir(os.path.join(input_path,'test','NORMAL'))\n",
    "img = plt.imread(os.path.join(input_path,'test','NORMAL',files[0]))\n",
    "plt.imshow(img)"
   ]
  },
  {
   "cell_type": "code",
   "execution_count": 71,
   "metadata": {},
   "outputs": [
    {
     "name": "stdout",
     "output_type": "stream",
     "text": [
      "240\n",
      "Found 5216 images belonging to 2 classes.\n",
      "Found 531 images belonging to 2 classes.\n"
     ]
    },
    {
     "data": {
      "text/plain": [
       "(531, 240, 320, 3)"
      ]
     },
     "execution_count": 71,
     "metadata": {},
     "output_type": "execute_result"
    }
   ],
   "source": [
    "img_dims = [240,320]\n",
    "epochs = 25\n",
    "batch_size = 16\n",
    "\n",
    "train_gen, test_gen, test_data, test_labels = process_data(img_dims, batch_size)\n",
    "test_data.shape"
   ]
  },
  {
   "cell_type": "code",
   "execution_count": null,
   "metadata": {},
   "outputs": [],
   "source": [
    "import keras\n",
    "w = test_data.shape[2]; h = test_data.shape[1]\n",
    "def crop_and_concat(x1,x2):\n",
    "    with tf.name_scope(\"crop_and_concat\"):\n",
    "        return keras.layers.Concatenate(axis=3)([x1, x2])\n",
    "def conv_block(inputs,num_filters,bn):\n",
    "    x1 = SeparableConv2D(filters=num_filters, kernel_size=(3, 3), activation='relu', padding='same')(inputs)\n",
    "    #x1 = SeparableConv2D(filters=num_filters, kernel_size=(5, 5), activation='relu', padding='same')(x1)\n",
    "    #x1 = SeparableConv2D(filters=num_filters, kernel_size=(7, 7), activation='relu', padding='same')(x1)\n",
    "\n",
    "    #x2 = SeparableConv2D(filters=num_filters, kernel_size=(3, 3), activation='relu', padding='same')(x1)\n",
    "    x2 = SeparableConv2D(filters=4, kernel_size=(5, 5), activation='relu', padding='same')(inputs)\n",
    "\n",
    "    #x3 = SeparableConv2D(filters=num_filters, kernel_size=(3, 3), activation='relu', padding='same')(inputs)\n",
    "    x3 = Conv2D(filters=num_filters, kernel_size=(1,1), activation='relu', padding='same')(x1)\n",
    "\n",
    "    #x = crop_and_concat(x1,x2)\n",
    "    x = crop_and_concat(x2,x3)\n",
    "    x = Conv2D(filters=num_filters, kernel_size=(3,3), activation='relu', padding='same', kernel_regularizer=l2(0.01), bias_regularizer=l2(0.01))(x)\n",
    "    x1r = Conv2D(filters=num_filters, kernel_size=(1,1), activation='relu', padding='same', kernel_regularizer=l2(0.01), bias_regularizer=l2(0.01))(inputs)\n",
    "    x = Add()([x,x1r])\n",
    "    \n",
    "    if bn:\n",
    "        x = BatchNormalization(axis=-1, momentum=0.99, epsilon=0.001, trainable=True) (x)\n",
    "    #x = Activation(tf.nn.sigmoid)(x)\n",
    "    x = AveragePooling2D(pool_size=(2,2))(x)\n",
    "    return x\n",
    "\n",
    "\n",
    "    \n",
    "    \n",
    "r = 240; c = 320   \n",
    "inputs = Input(shape=(r,c, 3))\n",
    "\n",
    "x = conv_block(inputs,8,0)\n",
    "x = conv_block(x,16,1)\n",
    "x = conv_block(x,32,1)\n",
    "x = conv_block(x,16,1)\n",
    "x = conv_block(x,8,1)\n",
    "\n",
    "\n",
    "\n",
    "\n",
    "\n",
    "# FC layer\n",
    "x = Flatten()(x)\n",
    "x = Dense(units=256, activation='relu')(x)\n",
    "x = Dropout(rate=0.5)(x)\n",
    "x = Dense(units=32, activation='relu')(x)\n",
    "#x = Dropout(rate=0.5)(x)\n",
    "\n",
    "\n",
    "\n",
    "# Output layer\n",
    "output = Dense(units=2, activation='softmax')(x)\n",
    "\n",
    "# Creating model and compiling\n",
    "model = Model(inputs=inputs, outputs=output)\n",
    "adamc = Adam(learning_rate=0.001, beta_1=0.9, beta_2=0.999, amsgrad=False)\n",
    "model.compile(optimizer= adamc, loss='binary_crossentropy', metrics=['accuracy'])\n",
    "\n",
    "# Callbacks\n",
    "checkpoint = ModelCheckpoint(filepath='best_weights.hdf5', save_best_only=True, save_weights_only=True)\n",
    "lr_reduce = ReduceLROnPlateau(monitor='val_loss', factor=0.7, patience=2, verbose=2, mode='max')\n",
    "early_stop = EarlyStopping(monitor='val_loss', min_delta=0.1, patience=1, mode='min')"
   ]
  },
  {
   "cell_type": "code",
   "execution_count": null,
   "metadata": {},
   "outputs": [],
   "source": [
    "model.summary()"
   ]
  },
  {
   "cell_type": "code",
   "execution_count": null,
   "metadata": {},
   "outputs": [],
   "source": [
    "hist = model.fit_generator(\n",
    "           train_gen, steps_per_epoch=train_gen.samples // batch_size, \n",
    "           epochs=epochs, validation_data=test_gen, \n",
    "           validation_steps=test_gen.samples // batch_size, callbacks=[checkpoint, lr_reduce])\n"
   ]
  },
  {
   "cell_type": "code",
   "execution_count": null,
   "metadata": {},
   "outputs": [],
   "source": [
    "history= hist\n",
    "# Plot training & validation accuracy values\n",
    "plt.plot(history.history['accuracy'])\n",
    "plt.plot(history.history['val_accuracy'])\n",
    "plt.title('Model accuracy')\n",
    "plt.ylabel('Accuracy')\n",
    "plt.xlabel('Epoch')\n",
    "plt.legend(['Train', 'Test'], loc='upper left')\n",
    "plt.show()\n",
    "\n",
    "# Plot training & validation loss values\n",
    "plt.plot(history.history['loss'])\n",
    "plt.plot(history.history['val_loss'])\n",
    "plt.title('Model loss')\n",
    "plt.ylabel('Loss')\n",
    "plt.xlabel('Epoch')\n",
    "plt.legend(['Train', 'Test'], loc='upper left')\n",
    "plt.show()"
   ]
  },
  {
   "cell_type": "code",
   "execution_count": 92,
   "metadata": {},
   "outputs": [
    {
     "name": "stdout",
     "output_type": "stream",
     "text": [
      "accuracy: 91.53 %\n",
      "precision: 87.28 %\n",
      "recall: 81.62 %\n",
      "f1: 84.36 %\n",
      "false negative rate: 1.04 %\n",
      "false positive rate: 12.72 %\n"
     ]
    },
    {
     "data": {
      "image/png": "[encoded data removed]",
      "text/plain": [
       "<Figure size 864x576 with 1 Axes>"
      ]
     },
     "metadata": {
      "needs_background": "light"
     },
     "output_type": "display_data"
    }
   ],
   "source": [
    "from sklearn.metrics import accuracy_score, confusion_matrix\n",
    "from mlxtend.plotting import plot_confusion_matrix\n",
    "np.set_printoptions(precision = 4)\n",
    "preds1 = model.predict(test_data)\n",
    "preds = np.argmax(preds1,axis=1)\n",
    "#test_labels = np.reshape(test_labels,[test_labels.shape[0],test_labels.shape[2]])\n",
    "test_lab = test_labels[:,0,1]\n",
    "accuracy = round(accuracy_score(test_lab, preds)*100,2)\n",
    "\n",
    "conf_mat = confusion_matrix(test_lab, preds)\n",
    "tn, fp, fn,tp = conf_mat.ravel()\n",
    "pre = round(100*(tp/(tp+fp)),2)\n",
    "rec = round(100*(tn/(tn+fp)),2)\n",
    "f1 = round(2*pre*recall/(pre+rec),2)\n",
    "fn_rate = round(100*fn/(fn+tn),2)\n",
    "fp_rate = round(100*fp/(fp+tp),2)\n",
    "\n",
    "print('accuracy: '+str(accuracy)+' %')\n",
    "print('precision: '+str(pre)+' %')\n",
    "print('recall: '+str(rec)+' %')\n",
    "print('f1: '+str(f1)+' %')\n",
    "print('false negative rate: '+str(fn_rate)+' %')\n",
    "print('false positive rate: '+str(fp_rate)+' %')\n",
    "plot_confusion_matrix(conf_mat,figsize=(12,8), hide_ticks=True,cmap=plt.cm.Blues)\n",
    "plt.xticks(range(2), ['Normal', 'Pneumonia'], fontsize=16)\n",
    "plt.yticks(range(2), ['Normal', 'Pneumonia'], fontsize=16)\n",
    "plt.show()"
   ]
  },
  {
   "cell_type": "code",
   "execution_count": null,
   "metadata": {},
   "outputs": [],
   "source": [
    "model.save('xray-pneumona-skip-convolution.h5')"
   ]
  }
 ],
 "metadata": {
  "kernelspec": {
   "display_name": "Python 3",
   "language": "python",
   "name": "python3"
  },
  "language_info": {
   "codemirror_mode": {
    "name": "ipython",
    "version": 3
   },
   "file_extension": ".py",
   "mimetype": "text/x-python",
   "name": "python",
   "nbconvert_exporter": "python",
   "pygments_lexer": "ipython3",
   "version": "3.6.9"
  }
 },
 "nbformat": 4,
 "nbformat_minor": 2
}
